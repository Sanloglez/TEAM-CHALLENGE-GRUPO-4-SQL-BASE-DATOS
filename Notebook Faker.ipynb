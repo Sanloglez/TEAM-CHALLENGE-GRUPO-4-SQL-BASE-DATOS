{
 "cells": [
  {
   "cell_type": "code",
   "execution_count": 1,
   "id": "3640c579",
   "metadata": {},
   "outputs": [],
   "source": [
    "from faker import Faker\n",
    "fake = Faker(\"es_ES\")  # Datos en español"
   ]
  },
  {
   "cell_type": "code",
   "execution_count": 1,
   "id": "75ab8972",
   "metadata": {},
   "outputs": [
    {
     "name": "stdout",
     "output_type": "stream",
     "text": [
      "                               nombre  \\\n",
      "0  Servicios Gomis y asociados S.L.L.   \n",
      "1                  Compañía Vall S.L.   \n",
      "2            Paredes y Carretero S.A.   \n",
      "3       Fernandez y asociados S.L.N.E   \n",
      "4              Supermercados GIL S.A.   \n",
      "\n",
      "                                           direccion    ciudad  provincia  \\\n",
      "0  C. de Balduino Sanmartín 8 Puerta 7 \\nCiudad, ...   Melilla      Ávila   \n",
      "1   Plaza Odalys Cases 15 Apt. 10 \\nLa Coruña, 47227  Albacete     Cuenca   \n",
      "2       Urbanización Cesar Quintero 75\\nÁvila, 11022  Asturias    Navarra   \n",
      "3        Vial Fabiola Piñol 35 Piso 7 \\nSoria, 45951    Teruel    Vizcaya   \n",
      "4           Paseo de Loreto Exposito 84\\nLeón, 26694     Soria  Salamanca   \n",
      "\n",
      "   codigo_proveedor  \n",
      "0              6394  \n",
      "1              6336  \n",
      "2              8029  \n",
      "3              3051  \n",
      "4              7553  \n"
     ]
    }
   ],
   "source": [
    "from faker import Faker\n",
    "import pandas as pd\n",
    "\n",
    "# Crear el generador de datos en español\n",
    "fake = Faker(\"es_ES\")\n",
    "\n",
    "# Número de proveedores a generar\n",
    "num_proveedores = 100\n",
    "\n",
    "# Crear una lista de diccionarios con los datos de los proveedores\n",
    "proveedores = []\n",
    "for _ in range(num_proveedores):\n",
    "    proveedor = {\n",
    "        \"nombre\": fake.company(),\n",
    "        \"direccion\": fake.address(),\n",
    "        \"ciudad\": fake.city(),\n",
    "        \"provincia\": fake.state(),\n",
    "        \"codigo_proveedor\": fake.random_int(min=1000, max=9999)\n",
    "    }\n",
    "    proveedores.append(proveedor)\n",
    "\n",
    "# Convertir la lista en un DataFrame de Pandas\n",
    "df_proveedores = pd.DataFrame(proveedores)\n",
    "\n",
    "# Mostrar las primeras filas del DataFrame\n",
    "print(df_proveedores.head())\n",
    "\n",
    "# Guardar la base de datos en un archivo CSV\n",
    "df_proveedores.to_csv(\"proveedores.csv\", index=False)"
   ]
  }
 ],
 "metadata": {
  "kernelspec": {
   "display_name": "Python 3",
   "language": "python",
   "name": "python3"
  },
  "language_info": {
   "codemirror_mode": {
    "name": "ipython",
    "version": 3
   },
   "file_extension": ".py",
   "mimetype": "text/x-python",
   "name": "python",
   "nbconvert_exporter": "python",
   "pygments_lexer": "ipython3",
   "version": "3.12.9"
  }
 },
 "nbformat": 4,
 "nbformat_minor": 5
}
