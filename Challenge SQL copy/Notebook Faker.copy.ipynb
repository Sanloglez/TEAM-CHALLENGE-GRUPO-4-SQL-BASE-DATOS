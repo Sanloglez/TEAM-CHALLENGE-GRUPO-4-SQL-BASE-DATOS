{
 "cells": [
  {
   "cell_type": "code",
   "execution_count": 1,
   "id": "3640c579",
   "metadata": {},
   "outputs": [],
   "source": [
    "from faker import Faker\n",
    "fake = Faker(\"es_ES\")  # Datos en español\n",
    "import random"
   ]
  },
  {
   "cell_type": "code",
   "execution_count": 2,
   "id": "85ddb1df",
   "metadata": {},
   "outputs": [],
   "source": [
    "import sqlite3\n",
    "connection = sqlite3.connect(\"../base_de_Datos.db\")\n",
    "cursor = connection.cursor()"
   ]
  },
  {
   "cell_type": "code",
   "execution_count": 3,
   "id": "75ab8972",
   "metadata": {},
   "outputs": [
    {
     "name": "stdout",
     "output_type": "stream",
     "text": [
      "                       nombre  \\\n",
      "0    Banca Privada IB S.Coop.   \n",
      "1      Manufacturas IP S.L.U.   \n",
      "2  Tecnologías Enríquez S.A.U   \n",
      "3   Carrera & Asociados S.A.U   \n",
      "4      Hermanos Carrasco S.L.   \n",
      "\n",
      "                                           direccion                  ciudad  \\\n",
      "0         Alameda de Salomé Perea 64, Navarra, 47769                 Córdoba   \n",
      "1                Vial Morena Lladó 60, Cuenca, 29294                  Ciudad   \n",
      "2              Pasaje Amor Calvo 67, Palencia, 13000                  Ciudad   \n",
      "3  Calle Aránzazu Cardona 11 Apt. 45 , Salamanca,...  Santa Cruz de Tenerife   \n",
      "4  Rambla de Ricarda Pedrosa 82 Apt. 36 , Baleare...                La Rioja   \n",
      "\n",
      "   provincia  codigo_proveedor  \n",
      "0   Asturias              1978  \n",
      "1    Segovia              6868  \n",
      "2   Valencia              1546  \n",
      "3  Guipúzcoa              4637  \n",
      "4     Cuenca              2431  \n"
     ]
    }
   ],
   "source": [
    "from faker import Faker\n",
    "import pandas as pd\n",
    "\n",
    "# Crear el generador de datos en español\n",
    "fake = Faker(\"es_ES\")\n",
    "\n",
    "# Número de proveedores a generar\n",
    "num_proveedores = 100\n",
    "\n",
    "# Crear una lista de diccionarios con los datos de los proveedores\n",
    "proveedores = []\n",
    "for _ in range(num_proveedores):\n",
    "    proveedor = {\n",
    "        \"nombre\": fake.company(),\n",
    "        \"direccion\": str(fake.address().replace(\"\\n\", \", \")),\n",
    "        \"ciudad\": fake.city().replace(\"\\n\", \", \"),\n",
    "        \"provincia\": fake.state(),\n",
    "        \"codigo_proveedor\": fake.random_int(min=1000, max=9999)\n",
    "    }\n",
    "    proveedores.append(proveedor)\n",
    "\n",
    "# Convertir la lista en un DataFrame de Pandas\n",
    "df_proveedores = pd.DataFrame(proveedores)\n",
    "# Mostrar las primeras filas del DataFrame\n",
    "print(df_proveedores.head())\n",
    "\n",
    "# Guardar la base de datos en un archivo CSV\n",
    "df_proveedores.to_csv(\"./archivos_csv/proveedores.csv\", index=False)"
   ]
  },
  {
   "cell_type": "code",
   "execution_count": 4,
   "id": "e65da93f",
   "metadata": {},
   "outputs": [],
   "source": [
    "df_proveedores.loc[df_proveedores[\"codigo_proveedor\"].duplicated(), \"codigo_proveedor\"] = df_proveedores[\"codigo_proveedor\"].max() + 1"
   ]
  },
  {
   "cell_type": "code",
   "execution_count": 5,
   "id": "83924dfd",
   "metadata": {},
   "outputs": [
    {
     "name": "stdout",
     "output_type": "stream",
     "text": [
      "<class 'pandas.core.frame.DataFrame'>\n",
      "RangeIndex: 100 entries, 0 to 99\n",
      "Data columns (total 5 columns):\n",
      " #   Column            Non-Null Count  Dtype \n",
      "---  ------            --------------  ----- \n",
      " 0   nombre            100 non-null    object\n",
      " 1   direccion         100 non-null    object\n",
      " 2   ciudad            100 non-null    object\n",
      " 3   provincia         100 non-null    object\n",
      " 4   codigo_proveedor  100 non-null    int64 \n",
      "dtypes: int64(1), object(4)\n",
      "memory usage: 4.0+ KB\n"
     ]
    }
   ],
   "source": [
    "df_proveedores.info()"
   ]
  },
  {
   "cell_type": "code",
   "execution_count": 6,
   "id": "98f4835a",
   "metadata": {},
   "outputs": [
    {
     "data": {
      "text/html": [
       "<div>\n",
       "<style scoped>\n",
       "    .dataframe tbody tr th:only-of-type {\n",
       "        vertical-align: middle;\n",
       "    }\n",
       "\n",
       "    .dataframe tbody tr th {\n",
       "        vertical-align: top;\n",
       "    }\n",
       "\n",
       "    .dataframe thead th {\n",
       "        text-align: right;\n",
       "    }\n",
       "</style>\n",
       "<table border=\"1\" class=\"dataframe\">\n",
       "  <thead>\n",
       "    <tr style=\"text-align: right;\">\n",
       "      <th></th>\n",
       "      <th>nombre</th>\n",
       "      <th>direccion</th>\n",
       "      <th>ciudad</th>\n",
       "      <th>provincia</th>\n",
       "      <th>codigo_proveedor</th>\n",
       "    </tr>\n",
       "  </thead>\n",
       "  <tbody>\n",
       "    <tr>\n",
       "      <th>0</th>\n",
       "      <td>Banca Privada IB S.Coop.</td>\n",
       "      <td>Alameda de Salomé Perea 64, Navarra, 47769</td>\n",
       "      <td>Córdoba</td>\n",
       "      <td>Asturias</td>\n",
       "      <td>1978</td>\n",
       "    </tr>\n",
       "    <tr>\n",
       "      <th>1</th>\n",
       "      <td>Manufacturas IP S.L.U.</td>\n",
       "      <td>Vial Morena Lladó 60, Cuenca, 29294</td>\n",
       "      <td>Ciudad</td>\n",
       "      <td>Segovia</td>\n",
       "      <td>6868</td>\n",
       "    </tr>\n",
       "    <tr>\n",
       "      <th>2</th>\n",
       "      <td>Tecnologías Enríquez S.A.U</td>\n",
       "      <td>Pasaje Amor Calvo 67, Palencia, 13000</td>\n",
       "      <td>Ciudad</td>\n",
       "      <td>Valencia</td>\n",
       "      <td>1546</td>\n",
       "    </tr>\n",
       "    <tr>\n",
       "      <th>3</th>\n",
       "      <td>Carrera &amp; Asociados S.A.U</td>\n",
       "      <td>Calle Aránzazu Cardona 11 Apt. 45 , Salamanca,...</td>\n",
       "      <td>Santa Cruz de Tenerife</td>\n",
       "      <td>Guipúzcoa</td>\n",
       "      <td>4637</td>\n",
       "    </tr>\n",
       "    <tr>\n",
       "      <th>4</th>\n",
       "      <td>Hermanos Carrasco S.L.</td>\n",
       "      <td>Rambla de Ricarda Pedrosa 82 Apt. 36 , Baleare...</td>\n",
       "      <td>La Rioja</td>\n",
       "      <td>Cuenca</td>\n",
       "      <td>2431</td>\n",
       "    </tr>\n",
       "  </tbody>\n",
       "</table>\n",
       "</div>"
      ],
      "text/plain": [
       "                       nombre  \\\n",
       "0    Banca Privada IB S.Coop.   \n",
       "1      Manufacturas IP S.L.U.   \n",
       "2  Tecnologías Enríquez S.A.U   \n",
       "3   Carrera & Asociados S.A.U   \n",
       "4      Hermanos Carrasco S.L.   \n",
       "\n",
       "                                           direccion                  ciudad  \\\n",
       "0         Alameda de Salomé Perea 64, Navarra, 47769                 Córdoba   \n",
       "1                Vial Morena Lladó 60, Cuenca, 29294                  Ciudad   \n",
       "2              Pasaje Amor Calvo 67, Palencia, 13000                  Ciudad   \n",
       "3  Calle Aránzazu Cardona 11 Apt. 45 , Salamanca,...  Santa Cruz de Tenerife   \n",
       "4  Rambla de Ricarda Pedrosa 82 Apt. 36 , Baleare...                La Rioja   \n",
       "\n",
       "   provincia  codigo_proveedor  \n",
       "0   Asturias              1978  \n",
       "1    Segovia              6868  \n",
       "2   Valencia              1546  \n",
       "3  Guipúzcoa              4637  \n",
       "4     Cuenca              2431  "
      ]
     },
     "execution_count": 6,
     "metadata": {},
     "output_type": "execute_result"
    }
   ],
   "source": [
    "df_proveedores.head()"
   ]
  },
  {
   "cell_type": "code",
   "execution_count": 7,
   "id": "8826511e",
   "metadata": {},
   "outputs": [],
   "source": [
    "for i in range(len(df_proveedores)):\n",
    "    cursor.execute(\"INSERT INTO Proveedores (proveedor_id,nombre,direccion,ciudad,provincia) VALUES (?,?,?,?,?)\",(int(df_proveedores.iloc[i][\"codigo_proveedor\"]),str(df_proveedores.iloc[i][\"nombre\"]),str(df_proveedores.iloc[i][\"direccion\"]),df_proveedores.iloc[i][\"ciudad\"],df_proveedores.iloc[i][\"provincia\"])) \n"
   ]
  },
  {
   "cell_type": "code",
   "execution_count": 8,
   "id": "b15d21b7",
   "metadata": {},
   "outputs": [],
   "source": [
    "connection.commit()"
   ]
  },
  {
   "cell_type": "code",
   "execution_count": 9,
   "id": "b6cc5d7a",
   "metadata": {},
   "outputs": [
    {
     "name": "stdout",
     "output_type": "stream",
     "text": [
      "   categoria_id      nombre\n",
      "0             2    Mecánica\n",
      "1             3  Interiores\n",
      "2             4  Carrocería\n",
      "3             5  Neumaticos\n",
      "4             6  Accesorios\n"
     ]
    }
   ],
   "source": [
    "import pandas as pd\n",
    "\n",
    "# Generar categorias\n",
    "df_categorias = pd.DataFrame({\n",
    "    \"categoria_id\": [2, 3, 4, 5, 6],\n",
    "    \"nombre\": [\"Mecánica\", \"Interiores\", \"Carrocería\",\"Neumaticos\",\"Accesorios\"]\n",
    "})\n",
    "\n",
    "# Mostrar la tabla\n",
    "print(df_categorias)\n",
    "\n",
    "df_categorias.to_csv(\"categorias.csv\", index=False)"
   ]
  },
  {
   "cell_type": "code",
   "execution_count": 10,
   "id": "87c60b8c",
   "metadata": {},
   "outputs": [],
   "source": [
    "for i in range(len(df_categorias)):\n",
    "    cursor.execute(\"INSERT INTO Categorias (categoria_id,nombre) VALUES (?,?)\",(int(df_categorias.iloc[i][\"categoria_id\"]),df_categorias.iloc[i][\"nombre\"]))\n"
   ]
  },
  {
   "cell_type": "code",
   "execution_count": 11,
   "id": "e9b81252",
   "metadata": {},
   "outputs": [],
   "source": [
    "connection.commit()"
   ]
  },
  {
   "cell_type": "code",
   "execution_count": 12,
   "id": "a664366e",
   "metadata": {},
   "outputs": [
    {
     "name": "stdout",
     "output_type": "stream",
     "text": [
      "   codigo_pieza    nombre  color  precio  categoria_id\n",
      "0           757    Escape  negro  154.03             2\n",
      "1           108  Asientos   azul  212.02             5\n",
      "2           219  Radiador  verde  139.66             5\n",
      "3           649  Radiador  negro  335.28             2\n",
      "4           586  Asientos   azul  412.14             2\n"
     ]
    }
   ],
   "source": [
    "# Faker en español\n",
    "fake = Faker(\"es_ES\")\n",
    "\n",
    "# Generar piezas\n",
    "colores = [\"rojo\", \"azul\", \"verde\", \"negro\", \"blanco\"]\n",
    "categorias = [1, 2, 3, 4, 5, 6]  # ID de categorías ya insertadas\n",
    "nombres_piezas = [\n",
    "    \"Filtro de aceite\", \"Amortiguador\", \"Radiador\", \"Bujía\", \"Pastilla de freno\",\n",
    "    \"Alternador\", \"Motor de arranque\", \"Batería\", \"Disco de freno\", \"Inyector\",\n",
    "    \"Caja de cambios\", \"Escape\", \"Compresor\", \"Espejo retrovisor\", \"Ventilador\", \n",
    "    \"Faros delanteros\", \"Asientos\", \"Embrague\", \"Volante\",\"Neumáticos de invierno\",\"Neumaticos de verano\"\n",
    "    \"Neumatico de 4 estaciones\",\"Alfombrillas\",\"Espejos\",\"Parabrisas\",\"Luces de freno\"]\n",
    "\n",
    "# Generar piezas\n",
    "piezas = []\n",
    "for i in range(100):\n",
    "    piezas.append({\n",
    "        \"codigo_pieza\": fake.random_int(min=100, max=1000),\n",
    "        \"nombre\": random.choice(nombres_piezas),\n",
    "        \"color\": random.choice(colores),\n",
    "        \"precio\": round(random.uniform(10, 500), 2),\n",
    "        \"categoria_id\": random.choice(categorias)\n",
    "    })\n",
    "df_piezas = pd.DataFrame(piezas)\n",
    "\n",
    "print(df_piezas.head())\n",
    "\n",
    "df_piezas.to_csv(\"./archivos_csv/piezas.csv\", index=False)\n"
   ]
  },
  {
   "cell_type": "code",
   "execution_count": 13,
   "id": "ee463337",
   "metadata": {},
   "outputs": [],
   "source": [
    "for i in range(len(df_piezas.loc[df_piezas[\"codigo_pieza\"].duplicated()])):\n",
    "    df_piezas.loc[df_piezas[\"codigo_pieza\"].duplicated(),\"codigo_pieza\"] = df_piezas[\"codigo_pieza\"].max() + (i+1)"
   ]
  },
  {
   "cell_type": "code",
   "execution_count": 14,
   "id": "7c9ac637",
   "metadata": {},
   "outputs": [
    {
     "data": {
      "text/html": [
       "<div>\n",
       "<style scoped>\n",
       "    .dataframe tbody tr th:only-of-type {\n",
       "        vertical-align: middle;\n",
       "    }\n",
       "\n",
       "    .dataframe tbody tr th {\n",
       "        vertical-align: top;\n",
       "    }\n",
       "\n",
       "    .dataframe thead th {\n",
       "        text-align: right;\n",
       "    }\n",
       "</style>\n",
       "<table border=\"1\" class=\"dataframe\">\n",
       "  <thead>\n",
       "    <tr style=\"text-align: right;\">\n",
       "      <th></th>\n",
       "      <th>codigo_pieza</th>\n",
       "      <th>nombre</th>\n",
       "      <th>color</th>\n",
       "      <th>precio</th>\n",
       "      <th>categoria_id</th>\n",
       "    </tr>\n",
       "  </thead>\n",
       "  <tbody>\n",
       "  </tbody>\n",
       "</table>\n",
       "</div>"
      ],
      "text/plain": [
       "Empty DataFrame\n",
       "Columns: [codigo_pieza, nombre, color, precio, categoria_id]\n",
       "Index: []"
      ]
     },
     "execution_count": 14,
     "metadata": {},
     "output_type": "execute_result"
    }
   ],
   "source": [
    "df_piezas.loc[df_piezas[\"codigo_pieza\"].duplicated()]"
   ]
  },
  {
   "cell_type": "code",
   "execution_count": 15,
   "id": "51e29e95",
   "metadata": {},
   "outputs": [],
   "source": [
    "for i in range(len(df_piezas)):\n",
    "    cursor.execute(\"INSERT INTO Piezas (pieza_id,nombre,color,precio,categoria_id) VALUES (?,?,?,?,?)\", (int(df_piezas.iloc[i][\"codigo_pieza\"]), df_piezas.iloc[i][\"nombre\"], df_piezas.iloc[i][\"color\"],df_piezas.iloc[i][\"precio\"],int(df_piezas.iloc[i][\"categoria_id\"])))\n",
    "    connection.commit()"
   ]
  },
  {
   "cell_type": "code",
   "execution_count": 16,
   "id": "814a4e98",
   "metadata": {},
   "outputs": [
    {
     "name": "stdout",
     "output_type": "stream",
     "text": [
      "   proveedor_id  pieza_id  cantidad       fecha\n",
      "0          5846       704         5  2024-08-28\n",
      "1          1462       775         8  2024-04-30\n",
      "2          7273       699         3  2024-12-19\n",
      "3          6894       313         1  2024-12-18\n",
      "4          8485       699         8  2024-05-02\n"
     ]
    }
   ],
   "source": [
    "\n",
    "from datetime import timedelta\n",
    "fake = Faker(\"es_ES\")\n",
    "\n",
    "# Generar pedidos\n",
    "num_pedidos = 200\n",
    "pedidos = []\n",
    "\n",
    "pieza_ya_reservada = {}\n",
    "\n",
    "for _ in range(num_pedidos):\n",
    "\n",
    "    proveedor = fake.random_int(min=1000, max=9999)\n",
    "    pieza = fake.random_int(min=100, max=1000)\n",
    "    cantidad = random.randint(1, 10)\n",
    "    fecha = fake.date_between(start_date='-1y', end_date='today')\n",
    "\n",
    "    proveedor_pieza = (proveedor,pieza)\n",
    "\n",
    "    if proveedor_pieza in pieza_ya_reservada:\n",
    "        while fecha in pieza_ya_reservada[proveedor_pieza]:\n",
    "            fecha += timedelta(days=1)\n",
    "        pieza_ya_reservada[proveedor_pieza].add(fecha)\n",
    "        print(f\"Tu pieza {pieza} se ha reservado del proveedor {proveedor} para el dia {fecha}\")\n",
    "    else:\n",
    "        pieza_ya_reservada[proveedor_pieza] = {fecha}\n",
    "\n",
    "    pedidos.append({\n",
    "        \"proveedor_id\": proveedor,\n",
    "        \"pieza_id\": pieza,\n",
    "        \"cantidad\": cantidad,\n",
    "        \"fecha\": fecha.isoformat()\n",
    "    })\n",
    "\n",
    "df_pedidos = pd.DataFrame(pedidos)\n",
    "\n",
    "print(df_pedidos.head())\n",
    "\n",
    "df_pedidos.to_csv(\"./archivos_csv/pedidos.csv\", index=False)"
   ]
  },
  {
   "cell_type": "code",
   "execution_count": 17,
   "id": "e38afc3a",
   "metadata": {},
   "outputs": [],
   "source": [
    "for i in range(len(df_pedidos)):\n",
    "    cursor.execute(\"INSERT INTO Pedidos (proveedor_id,pieza_id,cantidad,fecha) VALUES (?,?,?,?)\", (int(df_pedidos.iloc[i][\"proveedor_id\"]), int(df_pedidos.iloc[i][\"pieza_id\"]), int(df_pedidos.iloc[i][\"cantidad\"]), df_pedidos.iloc[i][\"fecha\"]))\n",
    "    connection.commit()"
   ]
  },
  {
   "cell_type": "code",
   "execution_count": 18,
   "id": "6faa0433",
   "metadata": {},
   "outputs": [],
   "source": [
    "cursor.close()"
   ]
  },
  {
   "cell_type": "code",
   "execution_count": null,
   "id": "0f490146",
   "metadata": {},
   "outputs": [],
   "source": []
  }
 ],
 "metadata": {
  "kernelspec": {
   "display_name": "Python 3",
   "language": "python",
   "name": "python3"
  },
  "language_info": {
   "codemirror_mode": {
    "name": "ipython",
    "version": 3
   },
   "file_extension": ".py",
   "mimetype": "text/x-python",
   "name": "python",
   "nbconvert_exporter": "python",
   "pygments_lexer": "ipython3",
   "version": "3.13.2"
  }
 },
 "nbformat": 4,
 "nbformat_minor": 5
}
