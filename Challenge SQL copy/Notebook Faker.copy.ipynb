{
 "cells": [
  {
   "cell_type": "code",
   "execution_count": 5,
   "id": "3640c579",
   "metadata": {},
   "outputs": [],
   "source": [
    "from faker import Faker\n",
    "fake = Faker(\"es_ES\")  # Datos en español\n",
    "import random"
   ]
  },
  {
   "cell_type": "code",
   "execution_count": 6,
   "id": "75ab8972",
   "metadata": {},
   "outputs": [
    {
     "name": "stdout",
     "output_type": "stream",
     "text": [
      "                      nombre  \\\n",
      "0       Pla y asociados S.L.   \n",
      "1      Rico y asociados S.A.   \n",
      "2       Familia Vidal S.Com.   \n",
      "3  Instalaciones Rosa S.A.T.   \n",
      "4     Inversiones Rubio S.L.   \n",
      "\n",
      "                                           direccion     ciudad   provincia  \\\n",
      "0     Plaza Nieves Peiró 99 Piso 8 \\nAlbacete, 11577   Alicante      Burgos   \n",
      "1           Pasaje de María Jiménez 96\\nCeuta, 20713    Cáceres     Badajoz   \n",
      "2           Camino Lola Llorente 204\\nGranada, 12928    Sevilla    Valencia   \n",
      "3  Cuesta de Ofelia López 45 Piso 8 \\nGranada, 27064    Vizcaya  Valladolid   \n",
      "4  Alameda de Matías Fernández 60 Puerta 2 \\nAlme...  La Coruña    Valencia   \n",
      "\n",
      "   codigo_proveedor  \n",
      "0              9320  \n",
      "1              5692  \n",
      "2              3532  \n",
      "3              7147  \n",
      "4              3411  \n"
     ]
    }
   ],
   "source": [
    "from faker import Faker\n",
    "import pandas as pd\n",
    "\n",
    "# Crear el generador de datos en español\n",
    "fake = Faker(\"es_ES\")\n",
    "\n",
    "# Número de proveedores a generar\n",
    "num_proveedores = 100\n",
    "\n",
    "# Crear una lista de diccionarios con los datos de los proveedores\n",
    "proveedores = []\n",
    "for _ in range(num_proveedores):\n",
    "    proveedor = {\n",
    "        \"nombre\": fake.company(),\n",
    "        \"direccion\": fake.address(),\n",
    "        \"ciudad\": fake.city(),\n",
    "        \"provincia\": fake.state(),\n",
    "        \"codigo_proveedor\": fake.random_int(min=1000, max=9999)\n",
    "    }\n",
    "    proveedores.append(proveedor)\n",
    "\n",
    "# Convertir la lista en un DataFrame de Pandas\n",
    "df_proveedores = pd.DataFrame(proveedores)\n",
    "\n",
    "# Mostrar las primeras filas del DataFrame\n",
    "print(df_proveedores.head())\n",
    "\n",
    "# Guardar la base de datos en un archivo CSV\n",
    "df_proveedores.to_csv(\"proveedores.csv\", index=False)"
   ]
  },
  {
   "cell_type": "code",
   "execution_count": null,
   "id": "b6cc5d7a",
   "metadata": {},
   "outputs": [
    {
     "name": "stdout",
     "output_type": "stream",
     "text": [
      "   categoria_id       nombre codigo_categoria\n",
      "0             1     Mecánica          CAT-001\n",
      "1             2  Electrónica          CAT-002\n",
      "2             3   Interiores          CAT-003\n",
      "3             4   Carrocería          CAT-004\n"
     ]
    }
   ],
   "source": [
    "import pandas as pd\n",
    "\n",
    "# Generar categorias\n",
    "df_categorias = pd.DataFrame({\n",
    "    \"categoria_id\": [1, 2, 3, 4],\n",
    "    \"nombre\": [\"Mecánica\", \"Electrónica\", \"Interiores\", \"Carrocería\"],\n",
    "    \"codigo_categoria\": [\"CAT-001\", \"CAT-002\", \"CAT-003\", \"CAT-004\"]\n",
    "})\n",
    "\n",
    "# Mostrar la tabla\n",
    "print(df_categorias)\n",
    "\n",
    "df_categorias.to_csv(\"categorias.csv\", index=False)"
   ]
  },
  {
   "cell_type": "code",
   "execution_count": null,
   "id": "a664366e",
   "metadata": {},
   "outputs": [
    {
     "name": "stdout",
     "output_type": "stream",
     "text": [
      "   codigo_pieza             nombre   color  precio  categoria_id\n",
      "0           721  Espejo retrovisor  blanco  111.12             4\n",
      "1           122   Faros delanteros  blanco  208.19             4\n",
      "2           938           Inyector    rojo  498.32             4\n",
      "3           811  Espejo retrovisor    rojo  231.07             1\n",
      "4           572           Asientos    rojo  270.68             1\n"
     ]
    }
   ],
   "source": [
    "# Faker en español\n",
    "fake = Faker(\"es_ES\")\n",
    "\n",
    "# Generar piezas\n",
    "colores = [\"rojo\", \"azul\", \"verde\", \"negro\", \"blanco\"]\n",
    "categorias = [1, 2, 3, 4]  # ID de categorías ya insertadas\n",
    "nombres_piezas = [\n",
    "    \"Filtro de aceite\", \"Amortiguador\", \"Radiador\", \"Bujía\", \"Pastilla de freno\",\n",
    "    \"Alternador\", \"Motor de arranque\", \"Batería\", \"Disco de freno\", \"Inyector\",\n",
    "    \"Caja de cambios\", \"Escape\", \"Compresor\", \"Espejo retrovisor\", \"Ventilador\", \n",
    "    \"Faros delanteros\", \"Asientos\", \"Embrague\", \"Volante\"]\n",
    "\n",
    "# Generar piezas\n",
    "piezas = []\n",
    "for i in range(100):\n",
    "    piezas.append({\n",
    "        \"codigo_pieza\": fake.random_int(min=100, max=1000),\n",
    "        \"nombre\": random.choice(nombres_piezas),\n",
    "        \"color\": random.choice(colores),\n",
    "        \"precio\": round(random.uniform(10, 500), 2),\n",
    "        \"categoria_id\": random.choice(categorias)\n",
    "    })\n",
    "df_piezas = pd.DataFrame(piezas)\n",
    "\n",
    "print(df_piezas.head())\n",
    "\n",
    "df_piezas.to_csv(\"piezas.csv\", index=False)\n"
   ]
  },
  {
   "cell_type": "code",
   "execution_count": 9,
   "id": "814a4e98",
   "metadata": {},
   "outputs": [
    {
     "name": "stdout",
     "output_type": "stream",
     "text": [
      "   pedido_id  proveedor_id  pieza_id  cantidad       fecha\n",
      "0       3172          6769       658         5  2024-05-20\n",
      "1       4772          3049       221         9  2025-01-13\n",
      "2       4380          7573       897        10  2024-10-23\n",
      "3       2977          1747       674         4  2024-07-26\n",
      "4       2658          7282       712         3  2024-06-30\n"
     ]
    }
   ],
   "source": [
    "\n",
    "fake = Faker(\"es_ES\")\n",
    "\n",
    "# Generar pedidos\n",
    "num_pedidos = 200\n",
    "pedidos = []\n",
    "\n",
    "for _ in range(num_pedidos):\n",
    "    pedidos.append({\n",
    "        \"pedido_id\": fake.random_int(min=100, max=9999),\n",
    "        \"proveedor_id\": fake.random_int(min=1000, max=9999),\n",
    "        \"pieza_id\": fake.random_int(min=100, max=1000),\n",
    "        \"cantidad\": random.randint(1, 10),\n",
    "        \"fecha\": fake.date_between(start_date='-1y', end_date='today').isoformat()\n",
    "    })\n",
    "\n",
    "df_pedidos = pd.DataFrame(pedidos)\n",
    "\n",
    "print(df_pedidos.head())\n",
    "\n",
    "df_pedidos.to_csv(\"pedidos.csv\", index=False)"
   ]
  }
 ],
 "metadata": {
  "kernelspec": {
   "display_name": "Python 3",
   "language": "python",
   "name": "python3"
  },
  "language_info": {
   "codemirror_mode": {
    "name": "ipython",
    "version": 3
   },
   "file_extension": ".py",
   "mimetype": "text/x-python",
   "name": "python",
   "nbconvert_exporter": "python",
   "pygments_lexer": "ipython3",
   "version": "3.10.11"
  }
 },
 "nbformat": 4,
 "nbformat_minor": 5
}
